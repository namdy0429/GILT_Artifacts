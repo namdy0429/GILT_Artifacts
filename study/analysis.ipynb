{
 "cells": [
  {
   "cell_type": "markdown",
   "metadata": {},
   "source": [
    "# Using an LLM to Help With Code Understanding"
   ]
  },
  {
   "cell_type": "code",
   "execution_count": 1,
   "metadata": {},
   "outputs": [
    {
     "name": "stderr",
     "output_type": "stream",
     "text": [
      "also installing the dependencies ‘boot’, ‘minqa’, ‘RcppEigen’, ‘lme4’, ‘Deriv’, ‘deming’\n",
      "\n",
      "\n",
      "Updating HTML index of packages in '.Library'\n",
      "\n",
      "Making 'packages.html' ...\n",
      " done\n",
      "\n"
     ]
    }
   ],
   "source": [
    "# Skip this if MuMIn, car, rsq are already installed\n",
    "nloptr_url <-\"https://cran.r-project.org/src/contrib/Archive/nloptr/nloptr_1.2.1.tar.gz\"\n",
    "install.packages(nloptr_url, repos=NULL, type=\"source\")\n",
    "mumin_url <- \"https://cran.r-project.org/src/contrib/Archive/MuMIn/MuMIn_1.46.0.tar.gz\"\n",
    "install.packages(mumin_url, repos=NULL, type=\"source\")\n",
    "\n",
    "install.packages(\"rsq\")\n"
   ]
  },
  {
   "cell_type": "code",
   "execution_count": 2,
   "metadata": {},
   "outputs": [
    {
     "name": "stderr",
     "output_type": "stream",
     "text": [
      "also installing the dependencies ‘Matrix’, ‘SparseM’, ‘MatrixModels’, ‘carData’, ‘abind’, ‘quantreg’\n",
      "\n",
      "\n",
      "Updating HTML index of packages in '.Library'\n",
      "\n",
      "Making 'packages.html' ...\n",
      " done\n",
      "\n"
     ]
    }
   ],
   "source": [
    "\n",
    "pbkrtest_url <- \"https://cran.r-project.org/src/contrib/Archive/pbkrtest/pbkrtest_0.4-5.tar.gz\" \n",
    "install.packages(pbkrtest_url, repos=NULL, type=\"source\")\n",
    "\n",
    "# car_url <- \"https://cran.r-project.org/src/contrib/Archive/car/car_3.1-1.tar.gz\" \n",
    "# install.packages(car_url, repos=NULL, type=\"source\")\n",
    "install.packages(\"car\")\n"
   ]
  },
  {
   "cell_type": "code",
   "execution_count": 3,
   "metadata": {
    "vscode": {
     "languageId": "r"
    }
   },
   "outputs": [
    {
     "name": "stderr",
     "output_type": "stream",
     "text": [
      "Loading required package: carData\n",
      "\n"
     ]
    }
   ],
   "source": [
    "library(MuMIn)\n",
    "library(car)\n",
    "library(rsq)"
   ]
  },
  {
   "cell_type": "code",
   "execution_count": 4,
   "metadata": {
    "vscode": {
     "languageId": "r"
    }
   },
   "outputs": [],
   "source": [
    "df <- read.csv(file=\"study_data.csv\", header=TRUE)"
   ]
  },
  {
   "cell_type": "markdown",
   "metadata": {},
   "source": [
    "## Time"
   ]
  },
  {
   "cell_type": "code",
   "execution_count": 5,
   "metadata": {
    "vscode": {
     "languageId": "r"
    }
   },
   "outputs": [],
   "source": [
    "Q <- quantile(df$success_time_no_guess, probs=c(.01, .99), na.rm = FALSE)\n",
    "eliminated<- subset(df, df$success_time_no_guess >= Q[1] & df$success_time_no_guess <= Q[2])"
   ]
  },
  {
   "cell_type": "code",
   "execution_count": 6,
   "metadata": {
    "vscode": {
     "languageId": "r"
    }
   },
   "outputs": [
    {
     "data": {
      "text/plain": [
       "\n",
       "Call:\n",
       "lm(formula = success_time_no_guess ~ tool + experience + recruiting.years + \n",
       "    AI_experience, data = eliminated)\n",
       "\n",
       "Residuals:\n",
       "    Min      1Q  Median      3Q     Max \n",
       "-365.00 -169.86  -20.92   96.79  612.00 \n",
       "\n",
       "Coefficients:\n",
       "                 Estimate Std. Error t value Pr(>|t|)  \n",
       "(Intercept)       312.649    185.333   1.687    0.097 .\n",
       "tool               -9.098     57.257  -0.159    0.874  \n",
       "experience         23.138     25.401   0.911    0.366  \n",
       "recruiting.years  -23.671     43.534  -0.544    0.589  \n",
       "AI_experience       7.703     27.038   0.285    0.777  \n",
       "---\n",
       "Signif. codes:  0 ‘***’ 0.001 ‘**’ 0.01 ‘*’ 0.05 ‘.’ 0.1 ‘ ’ 1\n",
       "\n",
       "Residual standard error: 227 on 58 degrees of freedom\n",
       "Multiple R-squared:  0.02192,\tAdjusted R-squared:  -0.04553 \n",
       "F-statistic: 0.325 on 4 and 58 DF,  p-value: 0.8601\n"
      ]
     },
     "metadata": {},
     "output_type": "display_data"
    }
   ],
   "source": [
    "no_guess_time_model = lm(success_time_no_guess ~ \n",
    "                  tool +\n",
    "                  experience +\n",
    "                  recruiting.years +\n",
    "                  AI_experience,\n",
    "                data = eliminated)\n",
    "summary(no_guess_time_model)"
   ]
  },
  {
   "cell_type": "code",
   "execution_count": 7,
   "metadata": {
    "vscode": {
     "languageId": "r"
    }
   },
   "outputs": [
    {
     "data": {
      "text/html": [
       "<style>\n",
       ".dl-inline {width: auto; margin:0; padding: 0}\n",
       ".dl-inline>dt, .dl-inline>dd {float: none; width: auto; display: inline-block}\n",
       ".dl-inline>dt::after {content: \":\\0020\"; padding-right: .5ex}\n",
       ".dl-inline>dt:not(:first-of-type) {padding-left: .5ex}\n",
       "</style><dl class=dl-inline><dt>tool</dt><dd>1.00159235095105</dd><dt>experience</dt><dd>1.03056307624223</dd><dt>recruiting.years</dt><dd>1.00278734957559</dd><dt>AI_experience</dt><dd>1.02713501331379</dd></dl>\n"
      ],
      "text/latex": [
       "\\begin{description*}\n",
       "\\item[tool] 1.00159235095105\n",
       "\\item[experience] 1.03056307624223\n",
       "\\item[recruiting.years] 1.00278734957559\n",
       "\\item[AI\\textbackslash{}\\_experience] 1.02713501331379\n",
       "\\end{description*}\n"
      ],
      "text/markdown": [
       "tool\n",
       ":   1.00159235095105experience\n",
       ":   1.03056307624223recruiting.years\n",
       ":   1.00278734957559AI_experience\n",
       ":   1.02713501331379\n",
       "\n"
      ],
      "text/plain": [
       "            tool       experience recruiting.years    AI_experience \n",
       "        1.001592         1.030563         1.002787         1.027135 "
      ]
     },
     "metadata": {},
     "output_type": "display_data"
    }
   ],
   "source": [
    "vif(no_guess_time_model)"
   ]
  },
  {
   "cell_type": "markdown",
   "metadata": {},
   "source": [
    "## Understanding"
   ]
  },
  {
   "cell_type": "code",
   "execution_count": 8,
   "metadata": {
    "vscode": {
     "languageId": "r"
    }
   },
   "outputs": [],
   "source": [
    "Q <- quantile(df$understanding, probs=c(.01, .99), na.rm = FALSE)\n",
    "eliminated<- subset(df, df$understanding >= Q[1] & df$understanding <= Q[2])"
   ]
  },
  {
   "cell_type": "code",
   "execution_count": 9,
   "metadata": {
    "vscode": {
     "languageId": "r"
    }
   },
   "outputs": [
    {
     "data": {
      "text/plain": [
       "\n",
       "Call:\n",
       "glm(formula = understanding ~ tool + experience + recruiting.years + \n",
       "    AI_experience, family = quasipoisson, data = eliminated)\n",
       "\n",
       "Deviance Residuals: \n",
       "    Min       1Q   Median       3Q      Max  \n",
       "-1.9804  -1.0091  -0.4981   0.5261   2.0323  \n",
       "\n",
       "Coefficients:\n",
       "                 Estimate Std. Error t value Pr(>|t|)    \n",
       "(Intercept)      -1.80950    0.88632  -2.042 0.045674 *  \n",
       "tool              0.29092    0.28117   1.035 0.305041    \n",
       "experience        0.41416    0.11598   3.571 0.000715 ***\n",
       "recruiting.years  0.20093    0.21558   0.932 0.355107    \n",
       "AI_experience    -0.08944    0.13894  -0.644 0.522236    \n",
       "---\n",
       "Signif. codes:  0 ‘***’ 0.001 ‘**’ 0.01 ‘*’ 0.05 ‘.’ 0.1 ‘ ’ 1\n",
       "\n",
       "(Dispersion parameter for quasipoisson family taken to be 1.019686)\n",
       "\n",
       "    Null deviance: 81.806  on 63  degrees of freedom\n",
       "Residual deviance: 66.229  on 59  degrees of freedom\n",
       "AIC: NA\n",
       "\n",
       "Number of Fisher Scoring iterations: 5\n"
      ]
     },
     "metadata": {},
     "output_type": "display_data"
    }
   ],
   "source": [
    "understanding_model =glm(understanding ~ \n",
    "                  tool +\n",
    "                  experience +\n",
    "                  recruiting.years +\n",
    "                  AI_experience,\n",
    "                data = eliminated,\n",
    "                family=quasipoisson)\n",
    "summary(understanding_model)"
   ]
  },
  {
   "cell_type": "code",
   "execution_count": 10,
   "metadata": {
    "vscode": {
     "languageId": "r"
    }
   },
   "outputs": [
    {
     "data": {
      "text/html": [
       "<style>\n",
       ".dl-inline {width: auto; margin:0; padding: 0}\n",
       ".dl-inline>dt, .dl-inline>dd {float: none; width: auto; display: inline-block}\n",
       ".dl-inline>dt::after {content: \":\\0020\"; padding-right: .5ex}\n",
       ".dl-inline>dt:not(:first-of-type) {padding-left: .5ex}\n",
       "</style><dl class=dl-inline><dt>tool</dt><dd>1.02377009312708</dd><dt>experience</dt><dd>1.01558545195154</dd><dt>recruiting.years</dt><dd>1.05463164906912</dd><dt>AI_experience</dt><dd>1.03921219821773</dd></dl>\n"
      ],
      "text/latex": [
       "\\begin{description*}\n",
       "\\item[tool] 1.02377009312708\n",
       "\\item[experience] 1.01558545195154\n",
       "\\item[recruiting.years] 1.05463164906912\n",
       "\\item[AI\\textbackslash{}\\_experience] 1.03921219821773\n",
       "\\end{description*}\n"
      ],
      "text/markdown": [
       "tool\n",
       ":   1.02377009312708experience\n",
       ":   1.01558545195154recruiting.years\n",
       ":   1.05463164906912AI_experience\n",
       ":   1.03921219821773\n",
       "\n"
      ],
      "text/plain": [
       "            tool       experience recruiting.years    AI_experience \n",
       "        1.023770         1.015585         1.054632         1.039212 "
      ]
     },
     "metadata": {},
     "output_type": "display_data"
    },
    {
     "data": {
      "text/html": [
       "0.201861942744516"
      ],
      "text/latex": [
       "0.201861942744516"
      ],
      "text/markdown": [
       "0.201861942744516"
      ],
      "text/plain": [
       "[1] 0.2018619"
      ]
     },
     "metadata": {},
     "output_type": "display_data"
    },
    {
     "data": {
      "text/html": [
       "0.147750888015331"
      ],
      "text/latex": [
       "0.147750888015331"
      ],
      "text/markdown": [
       "0.147750888015331"
      ],
      "text/plain": [
       "[1] 0.1477509"
      ]
     },
     "metadata": {},
     "output_type": "display_data"
    }
   ],
   "source": [
    "vif(understanding_model)\n",
    "rsq(understanding_model)\n",
    "rsq(understanding_model, adj=TRUE)"
   ]
  },
  {
   "cell_type": "markdown",
   "metadata": {},
   "source": [
    "## Progress"
   ]
  },
  {
   "cell_type": "code",
   "execution_count": 11,
   "metadata": {
    "vscode": {
     "languageId": "r"
    }
   },
   "outputs": [],
   "source": [
    "Q <- quantile(df$progress_no_guess, probs=c(.01, .99), na.rm = FALSE)\n",
    "eliminated<- subset(df, df$progress_no_guess >= Q[1] & df$progress_no_guess <= Q[2])"
   ]
  },
  {
   "cell_type": "code",
   "execution_count": 12,
   "metadata": {
    "vscode": {
     "languageId": "r"
    }
   },
   "outputs": [
    {
     "data": {
      "text/plain": [
       "\n",
       "Call:\n",
       "glm(formula = progress_no_guess ~ tool + experience + recruiting.years + \n",
       "    AI_experience, family = quasipoisson, data = eliminated)\n",
       "\n",
       "Deviance Residuals: \n",
       "     Min        1Q    Median        3Q       Max  \n",
       "-1.99544  -0.58170  -0.09451   0.47915   1.57589  \n",
       "\n",
       "Coefficients:\n",
       "                  Estimate Std. Error t value Pr(>|t|)   \n",
       "(Intercept)       0.411276   0.489850   0.840  0.40452   \n",
       "tool              0.474858   0.155829   3.047  0.00345 **\n",
       "experience        0.128921   0.065531   1.967  0.05385 . \n",
       "recruiting.years -0.102899   0.116218  -0.885  0.37954   \n",
       "AI_experience    -0.008889   0.073082  -0.122  0.90360   \n",
       "---\n",
       "Signif. codes:  0 ‘***’ 0.001 ‘**’ 0.01 ‘*’ 0.05 ‘.’ 0.1 ‘ ’ 1\n",
       "\n",
       "(Dispersion parameter for quasipoisson family taken to be 0.65364)\n",
       "\n",
       "    Null deviance: 56.650  on 63  degrees of freedom\n",
       "Residual deviance: 47.874  on 59  degrees of freedom\n",
       "AIC: NA\n",
       "\n",
       "Number of Fisher Scoring iterations: 5\n"
      ]
     },
     "metadata": {},
     "output_type": "display_data"
    }
   ],
   "source": [
    "progress_model= glm(progress_no_guess ~ \n",
    "                  tool +\n",
    "                  experience +\n",
    "                  recruiting.years +\n",
    "                  AI_experience,\n",
    "                data = eliminated,\n",
    "                family=quasipoisson)\n",
    "summary(progress_model)"
   ]
  },
  {
   "cell_type": "code",
   "execution_count": 13,
   "metadata": {
    "vscode": {
     "languageId": "r"
    }
   },
   "outputs": [
    {
     "data": {
      "text/html": [
       "<style>\n",
       ".dl-inline {width: auto; margin:0; padding: 0}\n",
       ".dl-inline>dt, .dl-inline>dd {float: none; width: auto; display: inline-block}\n",
       ".dl-inline>dt::after {content: \":\\0020\"; padding-right: .5ex}\n",
       ".dl-inline>dt:not(:first-of-type) {padding-left: .5ex}\n",
       "</style><dl class=dl-inline><dt>tool</dt><dd>1.00370471393437</dd><dt>experience</dt><dd>1.04353303691995</dd><dt>recruiting.years</dt><dd>1.01657334149358</dd><dt>AI_experience</dt><dd>1.02693716011164</dd></dl>\n"
      ],
      "text/latex": [
       "\\begin{description*}\n",
       "\\item[tool] 1.00370471393437\n",
       "\\item[experience] 1.04353303691995\n",
       "\\item[recruiting.years] 1.01657334149358\n",
       "\\item[AI\\textbackslash{}\\_experience] 1.02693716011164\n",
       "\\end{description*}\n"
      ],
      "text/markdown": [
       "tool\n",
       ":   1.00370471393437experience\n",
       ":   1.04353303691995recruiting.years\n",
       ":   1.01657334149358AI_experience\n",
       ":   1.02693716011164\n",
       "\n"
      ],
      "text/plain": [
       "            tool       experience recruiting.years    AI_experience \n",
       "        1.003705         1.043533         1.016573         1.026937 "
      ]
     },
     "metadata": {},
     "output_type": "display_data"
    },
    {
     "data": {
      "text/html": [
       "0.17289671897356"
      ],
      "text/latex": [
       "0.17289671897356"
      ],
      "text/markdown": [
       "0.17289671897356"
      ],
      "text/plain": [
       "[1] 0.1728967"
      ]
     },
     "metadata": {},
     "output_type": "display_data"
    },
    {
     "data": {
      "text/html": [
       "0.116821920259903"
      ],
      "text/latex": [
       "0.116821920259903"
      ],
      "text/markdown": [
       "0.116821920259903"
      ],
      "text/plain": [
       "[1] 0.1168219"
      ]
     },
     "metadata": {},
     "output_type": "display_data"
    }
   ],
   "source": [
    "vif(progress_model)\n",
    "rsq(progress_model)\n",
    "rsq(progress_model, adj=TRUE)"
   ]
  },
  {
   "cell_type": "markdown",
   "metadata": {},
   "source": [
    "## Progress - Professionals"
   ]
  },
  {
   "cell_type": "code",
   "execution_count": 14,
   "metadata": {
    "vscode": {
     "languageId": "r"
    }
   },
   "outputs": [
    {
     "data": {
      "text/plain": [
       "\n",
       "Call:\n",
       "glm(formula = progress_no_guess ~ tool + experience + recruiting.years + \n",
       "    AI_experience, family = quasipoisson, data = eliminated[eliminated$is_professional == \n",
       "    1, ])\n",
       "\n",
       "Deviance Residuals: \n",
       "     Min        1Q    Median        3Q       Max  \n",
       "-1.51998  -0.53314  -0.00373   0.34619   1.47372  \n",
       "\n",
       "Coefficients:\n",
       "                  Estimate Std. Error t value Pr(>|t|)  \n",
       "(Intercept)      -0.380009   0.675660  -0.562   0.5785  \n",
       "tool              0.574312   0.216699   2.650   0.0133 *\n",
       "experience        0.157089   0.092289   1.702   0.1002  \n",
       "recruiting.years  0.005766   0.167227   0.034   0.9728  \n",
       "AI_experience     0.068821   0.105228   0.654   0.5186  \n",
       "---\n",
       "Signif. codes:  0 ‘***’ 0.001 ‘**’ 0.01 ‘*’ 0.05 ‘.’ 0.1 ‘ ’ 1\n",
       "\n",
       "(Dispersion parameter for quasipoisson family taken to be 0.5829177)\n",
       "\n",
       "    Null deviance: 26.628  on 31  degrees of freedom\n",
       "Residual deviance: 18.063  on 27  degrees of freedom\n",
       "AIC: NA\n",
       "\n",
       "Number of Fisher Scoring iterations: 5\n"
      ]
     },
     "metadata": {},
     "output_type": "display_data"
    }
   ],
   "source": [
    "progress_model= glm(progress_no_guess ~ \n",
    "                  tool +\n",
    "                  experience +\n",
    "                  recruiting.years +\n",
    "                  AI_experience,\n",
    "                data = eliminated[eliminated$is_professional==1,],\n",
    "                family=quasipoisson)\n",
    "summary(progress_model)"
   ]
  },
  {
   "cell_type": "code",
   "execution_count": 15,
   "metadata": {
    "vscode": {
     "languageId": "r"
    }
   },
   "outputs": [
    {
     "data": {
      "text/html": [
       "<style>\n",
       ".dl-inline {width: auto; margin:0; padding: 0}\n",
       ".dl-inline>dt, .dl-inline>dd {float: none; width: auto; display: inline-block}\n",
       ".dl-inline>dt::after {content: \":\\0020\"; padding-right: .5ex}\n",
       ".dl-inline>dt:not(:first-of-type) {padding-left: .5ex}\n",
       "</style><dl class=dl-inline><dt>tool</dt><dd>1.0650012651153</dd><dt>experience</dt><dd>1.09326940119914</dd><dt>recruiting.years</dt><dd>1.10008237520381</dd><dt>AI_experience</dt><dd>1.1254387249663</dd></dl>\n"
      ],
      "text/latex": [
       "\\begin{description*}\n",
       "\\item[tool] 1.0650012651153\n",
       "\\item[experience] 1.09326940119914\n",
       "\\item[recruiting.years] 1.10008237520381\n",
       "\\item[AI\\textbackslash{}\\_experience] 1.1254387249663\n",
       "\\end{description*}\n"
      ],
      "text/markdown": [
       "tool\n",
       ":   1.0650012651153experience\n",
       ":   1.09326940119914recruiting.years\n",
       ":   1.10008237520381AI_experience\n",
       ":   1.1254387249663\n",
       "\n"
      ],
      "text/plain": [
       "            tool       experience recruiting.years    AI_experience \n",
       "        1.065001         1.093269         1.100082         1.125439 "
      ]
     },
     "metadata": {},
     "output_type": "display_data"
    },
    {
     "data": {
      "text/html": [
       "0.341078043532312"
      ],
      "text/latex": [
       "0.341078043532312"
      ],
      "text/markdown": [
       "0.341078043532312"
      ],
      "text/plain": [
       "[1] 0.341078"
      ]
     },
     "metadata": {},
     "output_type": "display_data"
    },
    {
     "data": {
      "text/html": [
       "0.243459975907469"
      ],
      "text/latex": [
       "0.243459975907469"
      ],
      "text/markdown": [
       "0.243459975907469"
      ],
      "text/plain": [
       "[1] 0.24346"
      ]
     },
     "metadata": {},
     "output_type": "display_data"
    }
   ],
   "source": [
    "vif(progress_model)\n",
    "rsq(progress_model)\n",
    "rsq(progress_model, adj=TRUE)"
   ]
  },
  {
   "cell_type": "markdown",
   "metadata": {},
   "source": [
    "## Progress - Students"
   ]
  },
  {
   "cell_type": "code",
   "execution_count": 16,
   "metadata": {
    "vscode": {
     "languageId": "r"
    }
   },
   "outputs": [
    {
     "data": {
      "text/plain": [
       "\n",
       "Call:\n",
       "glm(formula = progress_no_guess ~ tool + experience + recruiting.years + \n",
       "    AI_experience, family = quasipoisson, data = eliminated[eliminated$is_professional == \n",
       "    0, ])\n",
       "\n",
       "Deviance Residuals: \n",
       "     Min        1Q    Median        3Q       Max  \n",
       "-2.16667  -0.44062   0.03898   0.44761   1.39012  \n",
       "\n",
       "Coefficients:\n",
       "                 Estimate Std. Error t value Pr(>|t|)  \n",
       "(Intercept)       1.82280    0.83114   2.193   0.0371 *\n",
       "tool              0.28921    0.24924   1.160   0.2560  \n",
       "experience        0.04163    0.11189   0.372   0.7128  \n",
       "recruiting.years -0.36806    0.20574  -1.789   0.0848 .\n",
       "AI_experience    -0.09812    0.10170  -0.965   0.3432  \n",
       "---\n",
       "Signif. codes:  0 ‘***’ 0.001 ‘**’ 0.01 ‘*’ 0.05 ‘.’ 0.1 ‘ ’ 1\n",
       "\n",
       "(Dispersion parameter for quasipoisson family taken to be 0.7262393)\n",
       "\n",
       "    Null deviance: 29.881  on 31  degrees of freedom\n",
       "Residual deviance: 26.263  on 27  degrees of freedom\n",
       "AIC: NA\n",
       "\n",
       "Number of Fisher Scoring iterations: 5\n"
      ]
     },
     "metadata": {},
     "output_type": "display_data"
    }
   ],
   "source": [
    "progress_model= glm(progress_no_guess ~ \n",
    "                  tool +\n",
    "                  experience +\n",
    "                  recruiting.years +\n",
    "                  AI_experience,\n",
    "                data = eliminated[eliminated$is_professional==0,],\n",
    "                family=quasipoisson)\n",
    "summary(progress_model)"
   ]
  },
  {
   "cell_type": "code",
   "execution_count": 17,
   "metadata": {
    "vscode": {
     "languageId": "r"
    }
   },
   "outputs": [
    {
     "data": {
      "text/html": [
       "<style>\n",
       ".dl-inline {width: auto; margin:0; padding: 0}\n",
       ".dl-inline>dt, .dl-inline>dd {float: none; width: auto; display: inline-block}\n",
       ".dl-inline>dt::after {content: \":\\0020\"; padding-right: .5ex}\n",
       ".dl-inline>dt:not(:first-of-type) {padding-left: .5ex}\n",
       "</style><dl class=dl-inline><dt>tool</dt><dd>1.15704686157123</dd><dt>experience</dt><dd>1.1911835096348</dd><dt>recruiting.years</dt><dd>1.0404859731061</dd><dt>AI_experience</dt><dd>1.07723862062954</dd></dl>\n"
      ],
      "text/latex": [
       "\\begin{description*}\n",
       "\\item[tool] 1.15704686157123\n",
       "\\item[experience] 1.1911835096348\n",
       "\\item[recruiting.years] 1.0404859731061\n",
       "\\item[AI\\textbackslash{}\\_experience] 1.07723862062954\n",
       "\\end{description*}\n"
      ],
      "text/markdown": [
       "tool\n",
       ":   1.15704686157123experience\n",
       ":   1.1911835096348recruiting.years\n",
       ":   1.0404859731061AI_experience\n",
       ":   1.07723862062954\n",
       "\n"
      ],
      "text/plain": [
       "            tool       experience recruiting.years    AI_experience \n",
       "        1.157047         1.191184         1.040486         1.077239 "
      ]
     },
     "metadata": {},
     "output_type": "display_data"
    },
    {
     "data": {
      "text/html": [
       "0.137414240565113"
      ],
      "text/latex": [
       "0.137414240565113"
      ],
      "text/markdown": [
       "0.137414240565113"
      ],
      "text/plain": [
       "[1] 0.1374142"
      ]
     },
     "metadata": {},
     "output_type": "display_data"
    },
    {
     "data": {
      "text/html": [
       "0.00962375768587043"
      ],
      "text/latex": [
       "0.00962375768587043"
      ],
      "text/markdown": [
       "0.00962375768587043"
      ],
      "text/plain": [
       "[1] 0.009623758"
      ]
     },
     "metadata": {},
     "output_type": "display_data"
    }
   ],
   "source": [
    "vif(progress_model)\n",
    "rsq(progress_model)\n",
    "rsq(progress_model, adj=TRUE)"
   ]
  },
  {
   "cell_type": "markdown",
   "metadata": {},
   "source": [
    "## Usage - Prompt"
   ]
  },
  {
   "cell_type": "code",
   "execution_count": 18,
   "metadata": {
    "vscode": {
     "languageId": "r"
    }
   },
   "outputs": [
    {
     "data": {
      "text/plain": [
       "\n",
       "Call:\n",
       "glm(formula = query_total ~ AI_experience + info_style + learning_style, \n",
       "    family = quasipoisson, data = df[df$tool == 1, ])\n",
       "\n",
       "Deviance Residuals: \n",
       "     Min        1Q    Median        3Q       Max  \n",
       "-2.85109  -0.69797  -0.04752   0.50455   1.74363  \n",
       "\n",
       "Coefficients:\n",
       "               Estimate Std. Error t value Pr(>|t|)    \n",
       "(Intercept)     1.38541    0.31008   4.468 0.000119 ***\n",
       "AI_experience   0.18740    0.07011   2.673 0.012401 *  \n",
       "info_style     -0.04181    0.14840  -0.282 0.780203    \n",
       "learning_style  0.18625    0.14191   1.312 0.200027    \n",
       "---\n",
       "Signif. codes:  0 ‘***’ 0.001 ‘**’ 0.01 ‘*’ 0.05 ‘.’ 0.1 ‘ ’ 1\n",
       "\n",
       "(Dispersion parameter for quasipoisson family taken to be 1.207218)\n",
       "\n",
       "    Null deviance: 47.961  on 31  degrees of freedom\n",
       "Residual deviance: 36.182  on 28  degrees of freedom\n",
       "AIC: NA\n",
       "\n",
       "Number of Fisher Scoring iterations: 4\n"
      ]
     },
     "metadata": {},
     "output_type": "display_data"
    }
   ],
   "source": [
    "query_model = glm(query_total ~ \n",
    "                  AI_experience +\n",
    "                  info_style + \n",
    "                  learning_style,\n",
    "                  data = df[df$tool==1,],\n",
    "                  family=quasipoisson)\n",
    "summary(query_model)"
   ]
  },
  {
   "cell_type": "code",
   "execution_count": 19,
   "metadata": {
    "vscode": {
     "languageId": "r"
    }
   },
   "outputs": [
    {
     "data": {
      "text/html": [
       "0.262556648100478"
      ],
      "text/latex": [
       "0.262556648100478"
      ],
      "text/markdown": [
       "0.262556648100478"
      ],
      "text/plain": [
       "[1] 0.2625566"
      ]
     },
     "metadata": {},
     "output_type": "display_data"
    },
    {
     "data": {
      "text/html": [
       "0.183544860396958"
      ],
      "text/latex": [
       "0.183544860396958"
      ],
      "text/markdown": [
       "0.183544860396958"
      ],
      "text/plain": [
       "[1] 0.1835449"
      ]
     },
     "metadata": {},
     "output_type": "display_data"
    }
   ],
   "source": [
    "rsq(query_model)\n",
    "rsq(query_model, adj=TRUE)"
   ]
  },
  {
   "cell_type": "markdown",
   "metadata": {},
   "source": [
    "## Usage - Followup"
   ]
  },
  {
   "cell_type": "code",
   "execution_count": 20,
   "metadata": {
    "vscode": {
     "languageId": "r"
    }
   },
   "outputs": [
    {
     "data": {
      "text/plain": [
       "\n",
       "Call:\n",
       "glm(formula = Query_followup ~ AI_experience + info_style + learning_style, \n",
       "    family = quasipoisson, data = df[df$tool == 1, ])\n",
       "\n",
       "Deviance Residuals: \n",
       "     Min        1Q    Median        3Q       Max  \n",
       "-2.31075  -1.41911   0.04797   0.89780   1.79470  \n",
       "\n",
       "Coefficients:\n",
       "               Estimate Std. Error t value Pr(>|t|)  \n",
       "(Intercept)     -0.8219     0.6935  -1.185   0.2459  \n",
       "AI_experience    0.3835     0.1455   2.635   0.0136 *\n",
       "info_style       0.4374     0.3036   1.441   0.1608  \n",
       "learning_style   0.5996     0.2871   2.088   0.0460 *\n",
       "---\n",
       "Signif. codes:  0 ‘***’ 0.001 ‘**’ 0.01 ‘*’ 0.05 ‘.’ 0.1 ‘ ’ 1\n",
       "\n",
       "(Dispersion parameter for quasipoisson family taken to be 1.584919)\n",
       "\n",
       "    Null deviance: 68.690  on 31  degrees of freedom\n",
       "Residual deviance: 53.359  on 28  degrees of freedom\n",
       "AIC: NA\n",
       "\n",
       "Number of Fisher Scoring iterations: 5\n"
      ]
     },
     "metadata": {},
     "output_type": "display_data"
    }
   ],
   "source": [
    "query_model = glm(Query_followup~ \n",
    "                  AI_experience +\n",
    "                  info_style + \n",
    "                  learning_style,\n",
    "                  data = df[df$tool==1,],\n",
    "                  family=quasipoisson)\n",
    "summary(query_model)"
   ]
  },
  {
   "cell_type": "code",
   "execution_count": 21,
   "metadata": {
    "vscode": {
     "languageId": "r"
    }
   },
   "outputs": [
    {
     "data": {
      "text/html": [
       "0.282937652220381"
      ],
      "text/latex": [
       "0.282937652220381"
      ],
      "text/markdown": [
       "0.282937652220381"
      ],
      "text/plain": [
       "[1] 0.2829377"
      ]
     },
     "metadata": {},
     "output_type": "display_data"
    },
    {
     "data": {
      "text/html": [
       "0.206109543529707"
      ],
      "text/latex": [
       "0.206109543529707"
      ],
      "text/markdown": [
       "0.206109543529707"
      ],
      "text/plain": [
       "[1] 0.2061095"
      ]
     },
     "metadata": {},
     "output_type": "display_data"
    }
   ],
   "source": [
    "rsq(query_model)\n",
    "rsq(query_model, adj=TRUE)"
   ]
  },
  {
   "cell_type": "markdown",
   "metadata": {},
   "source": [
    "## Usage - All"
   ]
  },
  {
   "cell_type": "code",
   "execution_count": 22,
   "metadata": {
    "vscode": {
     "languageId": "r"
    }
   },
   "outputs": [
    {
     "data": {
      "text/plain": [
       "\n",
       "Call:\n",
       "glm(formula = usage_total ~ AI_experience + info_style + learning_style, \n",
       "    family = quasipoisson, data = df[df$tool == 1, ])\n",
       "\n",
       "Deviance Residuals: \n",
       "    Min       1Q   Median       3Q      Max  \n",
       "-3.0859  -1.0284   0.2056   0.8392   2.4115  \n",
       "\n",
       "Coefficients:\n",
       "               Estimate Std. Error t value Pr(>|t|)    \n",
       "(Intercept)     2.43261    0.27263   8.923 1.12e-09 ***\n",
       "AI_experience   0.10570    0.06359   1.662    0.108    \n",
       "info_style     -0.04060    0.13213  -0.307    0.761    \n",
       "learning_style -0.12236    0.12938  -0.946    0.352    \n",
       "---\n",
       "Signif. codes:  0 ‘***’ 0.001 ‘**’ 0.01 ‘*’ 0.05 ‘.’ 0.1 ‘ ’ 1\n",
       "\n",
       "(Dispersion parameter for quasipoisson family taken to be 1.854085)\n",
       "\n",
       "    Null deviance: 64.228  on 31  degrees of freedom\n",
       "Residual deviance: 54.727  on 28  degrees of freedom\n",
       "AIC: NA\n",
       "\n",
       "Number of Fisher Scoring iterations: 4\n"
      ]
     },
     "metadata": {},
     "output_type": "display_data"
    }
   ],
   "source": [
    "query_model = glm(usage_total ~ \n",
    "                  AI_experience +\n",
    "                  info_style + \n",
    "                  learning_style,\n",
    "                  data = df[df$tool==1,],\n",
    "                  family=quasipoisson)\n",
    "summary(query_model)"
   ]
  },
  {
   "cell_type": "code",
   "execution_count": 23,
   "metadata": {
    "vscode": {
     "languageId": "r"
    }
   },
   "outputs": [
    {
     "data": {
      "text/html": [
       "0.164783460224552"
      ],
      "text/latex": [
       "0.164783460224552"
      ],
      "text/markdown": [
       "0.164783460224552"
      ],
      "text/plain": [
       "[1] 0.1647835"
      ]
     },
     "metadata": {},
     "output_type": "display_data"
    },
    {
     "data": {
      "text/html": [
       "0.0752959738200398"
      ],
      "text/latex": [
       "0.0752959738200398"
      ],
      "text/markdown": [
       "0.0752959738200398"
      ],
      "text/plain": [
       "[1] 0.07529597"
      ]
     },
     "metadata": {},
     "output_type": "display_data"
    }
   ],
   "source": [
    "rsq(query_model)\n",
    "rsq(query_model, adj=TRUE)"
   ]
  }
 ],
 "metadata": {
  "kernelspec": {
   "display_name": "R",
   "language": "R",
   "name": "ir"
  },
  "language_info": {
   "codemirror_mode": "r",
   "file_extension": ".r",
   "mimetype": "text/x-r-source",
   "name": "R",
   "pygments_lexer": "r",
   "version": "3.6.3"
  }
 },
 "nbformat": 4,
 "nbformat_minor": 4
}
